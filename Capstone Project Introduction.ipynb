{
    "cells": [
        {
            "cell_type": "markdown",
            "metadata": {
                "collapsed": true
            },
            "source": "<h1>Quantifying the Best Spot to Start a Hip Bar in Copenhagen</h1>"
        },
        {
            "cell_type": "markdown",
            "metadata": {},
            "source": "<h3>Business Problem</h3>\n<h4>Problem</h4><br>\nA local Danish businessman wants to open a hip coffee shop to take advantage of the artisanal coffee trend. As coffee shops are plentiful and have low start up costs the businessman wants to open the coffee shop in an area that doesnt have a high density of beloved coffee shops. The businessman would also prefer to place the shop in a neighborhood with a growing population of adults in the age bracket 18 - 45 as the businessman believes this group is most likely to have a higher percentage of spending money and more interested in exploring high quality coffee."
        },
        {
            "cell_type": "markdown",
            "metadata": {},
            "source": "<h4>The Data</h4><br>\nWe will be using a series of openly available datasets to solve the problem.<br>\n\n* **Danish Neighborhoods GeoJson:** Used to segregate the neighborhoods of Copenhagen  \n* **Spending Income per household:** To find the neighborhoods with the highest available spending money and highest growing spending money.\n* **Population Data:**  To explore which neighborhoods has the highest growing population of our target audience\n* **Foursquare API:**  To catalog existing number of coffee shops and there mean+median ratings to decide where we have the weakest competition\n"
        }
    ],
    "metadata": {
        "kernelspec": {
            "display_name": "Python 3.6",
            "language": "python",
            "name": "python3"
        },
        "language_info": {
            "codemirror_mode": {
                "name": "ipython",
                "version": 3
            },
            "file_extension": ".py",
            "mimetype": "text/x-python",
            "name": "python",
            "nbconvert_exporter": "python",
            "pygments_lexer": "ipython3",
            "version": "3.6.9"
        }
    },
    "nbformat": 4,
    "nbformat_minor": 1
}
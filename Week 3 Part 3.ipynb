{
    "cells": [
        {
            "cell_type": "markdown",
            "metadata": {},
            "source": "<h1>Scraping Toronto Postal Codes from Wikipedia</h1>"
        },
        {
            "cell_type": "markdown",
            "metadata": {},
            "source": "First we will import a few beneficial libraries.\n<br>\n* Numpy - array manipulation\n* Pandas - DataFrame manipulation\n* Requests - easier way to get html source code from a url\n* BeautifulSoup - A html parser that will allow us to easily access the data inbetween html tags\n\n"
        },
        {
            "cell_type": "code",
            "execution_count": 1,
            "metadata": {},
            "outputs": [],
            "source": "import numpy as np\nimport pandas as pd\nimport requests as rq\nfrom bs4 import BeautifulSoup as bs"
        },
        {
            "cell_type": "markdown",
            "metadata": {},
            "source": "We will store the link to our target page into a variable, url"
        },
        {
            "cell_type": "code",
            "execution_count": 2,
            "metadata": {},
            "outputs": [],
            "source": "#Storing URL & page title for potential later use\nurl='https://en.wikipedia.org/wiki/List_of_postal_codes_of_Canada:_M'\ntitle='List of postal codes of Canada: M'"
        },
        {
            "cell_type": "markdown",
            "metadata": {},
            "source": "Using requests.get(targetpage).text we save the html source code of the page into variable html"
        },
        {
            "cell_type": "code",
            "execution_count": 3,
            "metadata": {},
            "outputs": [],
            "source": "#scraping plain text html of target page and storing in variable\nhtml=rq.get(url).text"
        },
        {
            "cell_type": "markdown",
            "metadata": {},
            "source": "Now we utilize the BeautifulSoup methods with the lxml parsing engine. We use lxml as the page is not very complicated and want to optimize the speed of the calculation.<br><br>\nFollowing that we use the .find method to find the tag that signifies the start of the HTML table (table) with the class wikitable sortable. As there is only one table the new variable will contain the data we are looking for."
        },
        {
            "cell_type": "code",
            "execution_count": 4,
            "metadata": {},
            "outputs": [],
            "source": "#Assign text to soup object then Using beautiful soup package to isolate the wiki table\nobj=bs(html,'lxml')\ntable=obj.find('table',{'class':'wikitable sortable'})"
        },
        {
            "cell_type": "markdown",
            "metadata": {},
            "source": "The variable table contains the data we want but not in a format we can use it. HTML builds tables one row at a time using the tr tag, then seperating the columns with the td tag. We can therefore use BeautifulSoup to extract the rows into a single list with the find_all method. After that we can simply run a for loop to create a nested list with each row. Once we have a nested list we can create a pandas dataframe using pd.DataFrame()"
        },
        {
            "cell_type": "code",
            "execution_count": 5,
            "metadata": {},
            "outputs": [],
            "source": "#Isolate table rows by html syntax tr\ntrrows=table.find_all('tr')"
        },
        {
            "cell_type": "code",
            "execution_count": 6,
            "metadata": {},
            "outputs": [
                {
                    "data": {
                        "text/html": "<div>\n<style scoped>\n    .dataframe tbody tr th:only-of-type {\n        vertical-align: middle;\n    }\n\n    .dataframe tbody tr th {\n        vertical-align: top;\n    }\n\n    .dataframe thead th {\n        text-align: right;\n    }\n</style>\n<table border=\"1\" class=\"dataframe\">\n  <thead>\n    <tr style=\"text-align: right;\">\n      <th></th>\n      <th>Postal Code</th>\n      <th>Borough</th>\n      <th>Neighborhood</th>\n    </tr>\n  </thead>\n  <tbody>\n    <tr>\n      <th>0</th>\n      <td>None</td>\n      <td>None</td>\n      <td>None</td>\n    </tr>\n    <tr>\n      <th>1</th>\n      <td>M1A\\n</td>\n      <td>Not assigned\\n</td>\n      <td>Not assigned\\n</td>\n    </tr>\n    <tr>\n      <th>2</th>\n      <td>M2A\\n</td>\n      <td>Not assigned\\n</td>\n      <td>Not assigned\\n</td>\n    </tr>\n    <tr>\n      <th>3</th>\n      <td>M3A\\n</td>\n      <td>North York\\n</td>\n      <td>Parkwoods\\n</td>\n    </tr>\n    <tr>\n      <th>4</th>\n      <td>M4A\\n</td>\n      <td>North York\\n</td>\n      <td>Victoria Village\\n</td>\n    </tr>\n  </tbody>\n</table>\n</div>",
                        "text/plain": "  Postal Code         Borough        Neighborhood\n0        None            None                None\n1       M1A\\n  Not assigned\\n      Not assigned\\n\n2       M2A\\n  Not assigned\\n      Not assigned\\n\n3       M3A\\n    North York\\n         Parkwoods\\n\n4       M4A\\n    North York\\n  Victoria Village\\n"
                    },
                    "execution_count": 6,
                    "metadata": {},
                    "output_type": "execute_result"
                }
            ],
            "source": "#create list object to assign all table rows to\nl=[]\n\n#run for loop to pull out each individual row to a seperate list and nest into list l\nfor tr in trrows:\n    td = tr.find_all('td')\n    row = [tr.text for tr in td]\n    l.append(row)\n    \n#Create Dataframe from nested list l\ndf=pd.DataFrame(l, columns=[\"Postal Code\", \"Borough\",'Neighborhood'])\ndf.head()"
        },
        {
            "cell_type": "markdown",
            "metadata": {},
            "source": "At this stage we just need to clean our data set. First of we have a '\\n' string attached to every data point. We remove this by using the series.str.replace() method from pandas. This is necessary as in the basestate the columns are all in object format."
        },
        {
            "cell_type": "code",
            "execution_count": 7,
            "metadata": {},
            "outputs": [],
            "source": "#Clean dataset by stripping out \\n\ndf['Postal Code']=df['Postal Code'].str.replace('\\n','')\ndf['Borough']=df['Borough'].str.replace('\\n','')\ndf['Neighborhood']=df['Neighborhood'].str.replace('\\n','')"
        },
        {
            "cell_type": "markdown",
            "metadata": {},
            "source": "The first row contains no useful data and will be dropped by slicing the first index (0) off the dataframe"
        },
        {
            "cell_type": "code",
            "execution_count": 8,
            "metadata": {
                "scrolled": true
            },
            "outputs": [],
            "source": "#Drop first row with None\ndf=df[1:]"
        },
        {
            "cell_type": "markdown",
            "metadata": {},
            "source": "Optional step here to see how many postal codes are assigned to each borough. it also shows how many rows we will drop containing 'Not assigned'"
        },
        {
            "cell_type": "code",
            "execution_count": 9,
            "metadata": {
                "scrolled": true
            },
            "outputs": [
                {
                    "data": {
                        "text/html": "<div>\n<style scoped>\n    .dataframe tbody tr th:only-of-type {\n        vertical-align: middle;\n    }\n\n    .dataframe tbody tr th {\n        vertical-align: top;\n    }\n\n    .dataframe thead th {\n        text-align: right;\n    }\n</style>\n<table border=\"1\" class=\"dataframe\">\n  <thead>\n    <tr style=\"text-align: right;\">\n      <th></th>\n      <th>Postal Code</th>\n      <th>Neighborhood</th>\n    </tr>\n    <tr>\n      <th>Borough</th>\n      <th></th>\n      <th></th>\n    </tr>\n  </thead>\n  <tbody>\n    <tr>\n      <th>Central Toronto</th>\n      <td>9</td>\n      <td>9</td>\n    </tr>\n    <tr>\n      <th>Downtown Toronto</th>\n      <td>19</td>\n      <td>19</td>\n    </tr>\n    <tr>\n      <th>East Toronto</th>\n      <td>5</td>\n      <td>5</td>\n    </tr>\n    <tr>\n      <th>East York</th>\n      <td>5</td>\n      <td>5</td>\n    </tr>\n    <tr>\n      <th>Etobicoke</th>\n      <td>12</td>\n      <td>12</td>\n    </tr>\n    <tr>\n      <th>Mississauga</th>\n      <td>1</td>\n      <td>1</td>\n    </tr>\n    <tr>\n      <th>North York</th>\n      <td>24</td>\n      <td>24</td>\n    </tr>\n    <tr>\n      <th>Not assigned</th>\n      <td>77</td>\n      <td>77</td>\n    </tr>\n    <tr>\n      <th>Scarborough</th>\n      <td>17</td>\n      <td>17</td>\n    </tr>\n    <tr>\n      <th>West Toronto</th>\n      <td>6</td>\n      <td>6</td>\n    </tr>\n    <tr>\n      <th>York</th>\n      <td>5</td>\n      <td>5</td>\n    </tr>\n  </tbody>\n</table>\n</div>",
                        "text/plain": "                  Postal Code  Neighborhood\nBorough                                    \nCentral Toronto             9             9\nDowntown Toronto           19            19\nEast Toronto                5             5\nEast York                   5             5\nEtobicoke                  12            12\nMississauga                 1             1\nNorth York                 24            24\nNot assigned               77            77\nScarborough                17            17\nWest Toronto                6             6\nYork                        5             5"
                    },
                    "execution_count": 9,
                    "metadata": {},
                    "output_type": "execute_result"
                }
            ],
            "source": "#see how many Not assigned boroughs exist\ngroup=df.groupby(['Borough']).count()\ngroup"
        },
        {
            "cell_type": "markdown",
            "metadata": {},
            "source": "Using slicing of column borough not equal to not assigned we get a dataframe consisting of only postal codes + neighborhoods with named boroughs."
        },
        {
            "cell_type": "code",
            "execution_count": 10,
            "metadata": {},
            "outputs": [
                {
                    "data": {
                        "text/html": "<div>\n<style scoped>\n    .dataframe tbody tr th:only-of-type {\n        vertical-align: middle;\n    }\n\n    .dataframe tbody tr th {\n        vertical-align: top;\n    }\n\n    .dataframe thead th {\n        text-align: right;\n    }\n</style>\n<table border=\"1\" class=\"dataframe\">\n  <thead>\n    <tr style=\"text-align: right;\">\n      <th></th>\n      <th>Postal Code</th>\n      <th>Borough</th>\n      <th>Neighborhood</th>\n    </tr>\n  </thead>\n  <tbody>\n    <tr>\n      <th>0</th>\n      <td>M3A</td>\n      <td>North York</td>\n      <td>Parkwoods</td>\n    </tr>\n    <tr>\n      <th>1</th>\n      <td>M4A</td>\n      <td>North York</td>\n      <td>Victoria Village</td>\n    </tr>\n    <tr>\n      <th>2</th>\n      <td>M5A</td>\n      <td>Downtown Toronto</td>\n      <td>Regent Park, Harbourfront</td>\n    </tr>\n    <tr>\n      <th>3</th>\n      <td>M6A</td>\n      <td>North York</td>\n      <td>Lawrence Manor, Lawrence Heights</td>\n    </tr>\n    <tr>\n      <th>4</th>\n      <td>M7A</td>\n      <td>Downtown Toronto</td>\n      <td>Queen's Park, Ontario Provincial Government</td>\n    </tr>\n  </tbody>\n</table>\n</div>",
                        "text/plain": "  Postal Code           Borough                                 Neighborhood\n0         M3A        North York                                    Parkwoods\n1         M4A        North York                             Victoria Village\n2         M5A  Downtown Toronto                    Regent Park, Harbourfront\n3         M6A        North York             Lawrence Manor, Lawrence Heights\n4         M7A  Downtown Toronto  Queen's Park, Ontario Provincial Government"
                    },
                    "execution_count": 10,
                    "metadata": {},
                    "output_type": "execute_result"
                }
            ],
            "source": "#Create a final dataframe to store all postal codes, boroughs and neighborhoods where Borough is not 'Not assigned'\ndf=df[df.Borough != 'Not assigned']\n#Reset index sake good order\ndf=df.reset_index(drop=True)\ndf.head()"
        },
        {
            "cell_type": "code",
            "execution_count": 11,
            "metadata": {},
            "outputs": [
                {
                    "data": {
                        "text/plain": "(103, 3)"
                    },
                    "execution_count": 11,
                    "metadata": {},
                    "output_type": "execute_result"
                }
            ],
            "source": "#using .shape method to return total number of rows, columns to confirm correctly scraped table\ndf.shape"
        },
        {
            "cell_type": "markdown",
            "metadata": {},
            "source": "<h1>Part 2 - Longitude + Latitude of Neigborhoods</h1>"
        },
        {
            "cell_type": "markdown",
            "metadata": {},
            "source": "Now we want to get the latitude and longitude of each postal code to be able to pass it to foursquare's API.<br><br>\nFirst we import geocoder"
        },
        {
            "cell_type": "code",
            "execution_count": 12,
            "metadata": {},
            "outputs": [
                {
                    "name": "stdout",
                    "output_type": "stream",
                    "text": "Collecting geocoder\n\u001b[?25l  Downloading https://files.pythonhosted.org/packages/4f/6b/13166c909ad2f2d76b929a4227c952630ebaf0d729f6317eb09cbceccbab/geocoder-1.38.1-py2.py3-none-any.whl (98kB)\n\u001b[K     |\u2588\u2588\u2588\u2588\u2588\u2588\u2588\u2588\u2588\u2588\u2588\u2588\u2588\u2588\u2588\u2588\u2588\u2588\u2588\u2588\u2588\u2588\u2588\u2588\u2588\u2588\u2588\u2588\u2588\u2588\u2588\u2588| 102kB 6.5MB/s ta 0:00:011\n\u001b[?25hRequirement already satisfied: future in /opt/conda/envs/Python36/lib/python3.6/site-packages (from geocoder) (0.17.1)\nRequirement already satisfied: requests in /opt/conda/envs/Python36/lib/python3.6/site-packages (from geocoder) (2.21.0)\nRequirement already satisfied: six in /opt/conda/envs/Python36/lib/python3.6/site-packages (from geocoder) (1.12.0)\nRequirement already satisfied: click in /opt/conda/envs/Python36/lib/python3.6/site-packages (from geocoder) (7.0)\nCollecting ratelim (from geocoder)\n  Downloading https://files.pythonhosted.org/packages/f2/98/7e6d147fd16a10a5f821db6e25f192265d6ecca3d82957a4fdd592cad49c/ratelim-0.1.6-py2.py3-none-any.whl\nRequirement already satisfied: idna<2.9,>=2.5 in /opt/conda/envs/Python36/lib/python3.6/site-packages (from requests->geocoder) (2.8)\nRequirement already satisfied: chardet<3.1.0,>=3.0.2 in /opt/conda/envs/Python36/lib/python3.6/site-packages (from requests->geocoder) (3.0.4)\nRequirement already satisfied: urllib3<1.25,>=1.21.1 in /opt/conda/envs/Python36/lib/python3.6/site-packages (from requests->geocoder) (1.24.1)\nRequirement already satisfied: certifi>=2017.4.17 in /opt/conda/envs/Python36/lib/python3.6/site-packages (from requests->geocoder) (2020.4.5.1)\nRequirement already satisfied: decorator in /opt/conda/envs/Python36/lib/python3.6/site-packages (from ratelim->geocoder) (4.3.2)\nInstalling collected packages: ratelim, geocoder\n\u001b[33m  WARNING: The script geocode is installed in '/home/dsxuser/.local/bin' which is not on PATH.\n  Consider adding this directory to PATH or, if you prefer to suppress this warning, use --no-warn-script-location.\u001b[0m\nSuccessfully installed geocoder-1.38.1 ratelim-0.1.6\n"
                }
            ],
            "source": "!pip install --user geocoder"
        },
        {
            "cell_type": "code",
            "execution_count": 13,
            "metadata": {},
            "outputs": [],
            "source": "#from geopy.geocoders import Nominatim\n#from geopy.extra.rate_limiter import RateLimiter\nimport geocoder\nimport time\n\n#ALTERNATIVE METHOD PART 1\n#Initialize Nominatim agent and create a locater with 1 second delay between queries to avoid timing out\n#gloc=Nominatim(user_agent='CourseraCapstone')\n#locator=RateLimiter(gloc.geocode,min_delay_seconds=2)"
        },
        {
            "cell_type": "markdown",
            "metadata": {},
            "source": "Now we need to use our free Bing developer API key to query the Bing service. I have it in a hidden cell to protect it. You can setup a Bing developer basic account at https://www.bingmapsportal.com/"
        },
        {
            "cell_type": "code",
            "execution_count": 14,
            "metadata": {},
            "outputs": [],
            "source": "# The code was removed by Watson Studio for sharing."
        },
        {
            "cell_type": "markdown",
            "metadata": {},
            "source": "We initialize two Numpy arrays with 103 zeros (the number of total postal codes). Then run a for loop generating a json file for each query. We use the enumerate function to count the index numbers of the postal code to assign the correct latitude + longitude to the queried postal code."
        },
        {
            "cell_type": "code",
            "execution_count": 15,
            "metadata": {},
            "outputs": [],
            "source": "lati=np.zeros(103)\nlongi=np.zeros(103)\n\nfor i,post in enumerate(df['Postal Code']):\n    g=geocoder.bing('{}, Toronto, Ontario'.format(post),key=bingcred)\n    lati[i]=g.lat\n    longi[i]=g.lng"
        },
        {
            "cell_type": "markdown",
            "metadata": {},
            "source": "Finally we create 2 new columns based on our completed series and view the completed Dataframe. End of part 2"
        },
        {
            "cell_type": "code",
            "execution_count": 16,
            "metadata": {},
            "outputs": [
                {
                    "data": {
                        "text/html": "<div>\n<style scoped>\n    .dataframe tbody tr th:only-of-type {\n        vertical-align: middle;\n    }\n\n    .dataframe tbody tr th {\n        vertical-align: top;\n    }\n\n    .dataframe thead th {\n        text-align: right;\n    }\n</style>\n<table border=\"1\" class=\"dataframe\">\n  <thead>\n    <tr style=\"text-align: right;\">\n      <th></th>\n      <th>Postal Code</th>\n      <th>Borough</th>\n      <th>Neighborhood</th>\n      <th>Latitude</th>\n      <th>Longitude</th>\n    </tr>\n  </thead>\n  <tbody>\n    <tr>\n      <th>0</th>\n      <td>M3A</td>\n      <td>North York</td>\n      <td>Parkwoods</td>\n      <td>43.751881</td>\n      <td>-79.330360</td>\n    </tr>\n    <tr>\n      <th>1</th>\n      <td>M4A</td>\n      <td>North York</td>\n      <td>Victoria Village</td>\n      <td>43.730419</td>\n      <td>-79.312820</td>\n    </tr>\n    <tr>\n      <th>2</th>\n      <td>M5A</td>\n      <td>Downtown Toronto</td>\n      <td>Regent Park, Harbourfront</td>\n      <td>43.655140</td>\n      <td>-79.362648</td>\n    </tr>\n    <tr>\n      <th>3</th>\n      <td>M6A</td>\n      <td>North York</td>\n      <td>Lawrence Manor, Lawrence Heights</td>\n      <td>43.723209</td>\n      <td>-79.451408</td>\n    </tr>\n    <tr>\n      <th>4</th>\n      <td>M7A</td>\n      <td>Downtown Toronto</td>\n      <td>Queen's Park, Ontario Provincial Government</td>\n      <td>43.664490</td>\n      <td>-79.393021</td>\n    </tr>\n    <tr>\n      <th>5</th>\n      <td>M9A</td>\n      <td>Etobicoke</td>\n      <td>Islington Avenue, Humber Valley Village</td>\n      <td>43.662769</td>\n      <td>-79.528313</td>\n    </tr>\n    <tr>\n      <th>6</th>\n      <td>M1B</td>\n      <td>Scarborough</td>\n      <td>Malvern, Rouge</td>\n      <td>43.811531</td>\n      <td>-79.195518</td>\n    </tr>\n    <tr>\n      <th>7</th>\n      <td>M3B</td>\n      <td>North York</td>\n      <td>Don Mills</td>\n      <td>43.749290</td>\n      <td>-79.361687</td>\n    </tr>\n    <tr>\n      <th>8</th>\n      <td>M4B</td>\n      <td>East York</td>\n      <td>Parkview Hill, Woodbine Gardens</td>\n      <td>43.707939</td>\n      <td>-79.311600</td>\n    </tr>\n    <tr>\n      <th>9</th>\n      <td>M5B</td>\n      <td>Downtown Toronto</td>\n      <td>Garden District, Ryerson</td>\n      <td>43.657360</td>\n      <td>-79.378181</td>\n    </tr>\n  </tbody>\n</table>\n</div>",
                        "text/plain": "  Postal Code           Borough                                 Neighborhood  \\\n0         M3A        North York                                    Parkwoods   \n1         M4A        North York                             Victoria Village   \n2         M5A  Downtown Toronto                    Regent Park, Harbourfront   \n3         M6A        North York             Lawrence Manor, Lawrence Heights   \n4         M7A  Downtown Toronto  Queen's Park, Ontario Provincial Government   \n5         M9A         Etobicoke      Islington Avenue, Humber Valley Village   \n6         M1B       Scarborough                               Malvern, Rouge   \n7         M3B        North York                                    Don Mills   \n8         M4B         East York              Parkview Hill, Woodbine Gardens   \n9         M5B  Downtown Toronto                     Garden District, Ryerson   \n\n    Latitude  Longitude  \n0  43.751881 -79.330360  \n1  43.730419 -79.312820  \n2  43.655140 -79.362648  \n3  43.723209 -79.451408  \n4  43.664490 -79.393021  \n5  43.662769 -79.528313  \n6  43.811531 -79.195518  \n7  43.749290 -79.361687  \n8  43.707939 -79.311600  \n9  43.657360 -79.378181  "
                    },
                    "execution_count": 16,
                    "metadata": {},
                    "output_type": "execute_result"
                }
            ],
            "source": "df['Latitude']=lati\ndf['Longitude']=longi\ndf.head(10)"
        },
        {
            "cell_type": "code",
            "execution_count": 17,
            "metadata": {},
            "outputs": [],
            "source": "#ALTERNATIVE METHOD PART 2\n#df['query']=df['Postal Code']+', Toronto, Ontario'\n#df['location']=df['query'].apply(locator)\n#df.drop(['query'],axis=1,inplace=True)\n#df.head()"
        },
        {
            "cell_type": "markdown",
            "metadata": {},
            "source": "<h1>Part 3 - Exploring Neighborhoods and letting K-Means Algorithm cluster our dataset</h1>"
        },
        {
            "cell_type": "markdown",
            "metadata": {},
            "source": "Initially we have to save our foursquare developer ID, API secret and version to query the foursquare database. This cell will be hidden."
        },
        {
            "cell_type": "code",
            "execution_count": 18,
            "metadata": {},
            "outputs": [],
            "source": "# The code was removed by Watson Studio for sharing."
        },
        {
            "cell_type": "markdown",
            "metadata": {},
            "source": "Import json to handle the output from foursquare queries.<br>\nWe now use a regex to filter down to only the central Toronto Boroughs to avoid querying foursquare too many times compared to what our API access allows."
        },
        {
            "cell_type": "code",
            "execution_count": null,
            "metadata": {},
            "outputs": [
                {
                    "data": {
                        "text/plain": "(39, 5)"
                    },
                    "execution_count": 19,
                    "metadata": {},
                    "output_type": "execute_result"
                }
            ],
            "source": "import json\n\nToronto=df[df.Borough.str.match('.*Toronto.*')]\nToronto=Toronto.reset_index(drop=True)\nToronto.shape"
        },
        {
            "cell_type": "markdown",
            "metadata": {},
            "source": "Loop through the remaining neighborhoods and pull venues within a 500 meter radius up to maximum 100. We assign these venues to a list and convert it into a dataframe."
        },
        {
            "cell_type": "code",
            "execution_count": null,
            "metadata": {},
            "outputs": [],
            "source": "# create the API request URL\nvenues_list=[]\nradius=500\nlimit=100\n\nfor name, lat, lng in zip(Toronto['Neighborhood'], Toronto['Latitude'], Toronto['Longitude']):\n    url = 'https://api.foursquare.com/v2/venues/explore?&client_id={}&client_secret={}&v={}&ll={},{}&radius={}&limit={}'.format(\n        CLIENT_ID,\n        CLIENT_SECRET,\n        VERSION,\n        lat,\n        lng,\n        radius,\n        limit\n    )\n    \n    #make the GET request\n    results = rq.get(url).json()[\"response\"]['groups'][0]['items']\n\n    venues_list.append([(\n        name, \n        lat,\n        lng,\n        v['venue']['name'],\n        v['venue']['location']['lat'], \n        v['venue']['location']['lng'],  \n        v['venue']['categories'][0]['name']) for v in results])\n\n    TorVen=pd.DataFrame([item for venue_list in venues_list for item in venue_list])\n    TorVen.columns = ['Neighborhood','Neighborhood Latitude','Neighborhood Longitude','Venue','Venue Latitude','Venue Longitude','Venue Category']\n\nTorVen.head()"
        },
        {
            "cell_type": "code",
            "execution_count": null,
            "metadata": {},
            "outputs": [],
            "source": "TorVen.shape"
        },
        {
            "cell_type": "markdown",
            "metadata": {},
            "source": "We have 1736 total venues.<br><br>\nWe can explore some types of venues with the loc function and see that there are quite a few coffee shops in Toronto. Expected for a city of this size."
        },
        {
            "cell_type": "code",
            "execution_count": null,
            "metadata": {},
            "outputs": [],
            "source": "Category=TorVen[['Neighborhood','Venue Category']].groupby(by='Venue Category').count()\ncoffee=TorVen.loc[TorVen['Venue Category']=='Coffee Shop']\npark=TorVen.loc[TorVen['Venue Category']=='Park']\ncoffee=coffee.reset_index(drop=True)\npark=park.reset_index(drop=True)\nprint('Coffee Places in Toronto = ',len(coffee.index),', Parks in Toronto = ', len(park.index))"
        },
        {
            "cell_type": "markdown",
            "metadata": {},
            "source": "I have decided to focus on Coffee Shops, Parks, Bars, Hotels, Liquor Stores and Gym/Fitness centers in an attempt to see if there is a difference in inner/outer Toronto between more local based venues and more tourist focused venues.<br>\nLocal = Parks, Liquor Stores, Coffee Shops, Bars, Gym/Fitness Centers<br>\nTourist = Coffee Shops, Bars, Hotels<br><br>\nAssign our targeted venue types to a list to loop through. Initialize by testing on Coffee shops, then loop through the targets list with .loc to isolate the targeted venue type, groupby on neighborhoods to get the total number and then join it to the original dataframe on the neighborhood key."
        },
        {
            "cell_type": "code",
            "execution_count": null,
            "metadata": {
                "scrolled": true
            },
            "outputs": [],
            "source": "targets=['Park','Bar','Hotel','Liquor Store','Gym / Fitness Center']\ntemp=TorVen[['Neighborhood','Venue Category']].loc[TorVen['Venue Category']=='Coffee Shop'].groupby(by='Neighborhood').count()\nTor3=Toronto.join(temp,on='Neighborhood')\nTor3.columns = ['Coffee Shop' if x=='Venue Category' else x for x in Tor3.columns]\n\nfor tar in targets:\n    \n    temp=TorVen[['Neighborhood','Venue Category']].loc[TorVen['Venue Category']==tar].groupby(by='Neighborhood').count()\n    Tor3=Tor3.join(temp,on='Neighborhood')\n    Tor3.columns = [tar if x=='Venue Category' else x for x in Tor3.columns]\n\nTor3=Tor3.fillna(0)\nTor3.head()"
        },
        {
            "cell_type": "markdown",
            "metadata": {},
            "source": "We will now try to cluster the neighborhoods using K Means clustering. Avoid unnecessary columns by assigning only our numerical columns to the feat2 variable. I tested on the full feature list but concluded it was more correct to not attempt to cluster including latitude and longitude.<br> Normalize venue values with the Standard Scaler from scikit learn."
        },
        {
            "cell_type": "code",
            "execution_count": null,
            "metadata": {},
            "outputs": [],
            "source": "from sklearn.cluster import KMeans\nfrom sklearn.preprocessing import StandardScaler\n\nfeatures=['Latitude','Longitude','Coffee Shop','Park','Bar','Hotel','Liquor Store','Gym / Fitness Center']\nfeat2=['Coffee Shop','Park','Bar','Hotel','Liquor Store','Gym / Fitness Center']\nX=StandardScaler().fit_transform(Tor3[features])\nX2=StandardScaler().fit_transform(Tor3[feat2])"
        },
        {
            "cell_type": "markdown",
            "metadata": {},
            "source": "Now we will attempt to find the most correct number of clusters to label using a combination of the elbow method and the silhouette score."
        },
        {
            "cell_type": "code",
            "execution_count": null,
            "metadata": {},
            "outputs": [],
            "source": "from sklearn.metrics import silhouette_score\nimport matplotlib.pyplot as plt\n\nCs=12\nc_acc=np.zeros(10)\nc_score=np.zeros(10)\n\nfor j,i in enumerate(range(2,Cs)):\n    KMM=KMeans(n_clusters=i,random_state=10).fit(X2)\n    labels=KMM.labels_\n    c_acc[j]=silhouette_score(X2,labels)\n    c_score[j]=abs(KMM.score(X2))\n\nfig=plt.figure()\nplt.subplot(1,2,1)    \nplt.scatter(range(2,Cs),c_acc)\nplt.subplot(1,2,2)\nplt.scatter(range(2,Cs),c_score)\nplt.show()"
        },
        {
            "cell_type": "markdown",
            "metadata": {},
            "source": "I have chosen 3 clusters as our final cluster number as it has a slightly higher silhouette score than 9 clusters and still passes the elbow test to a certain degree. I want to avoid over clustering and having very few neighborhoods per cluster to keep the clusters more generalized.<br><br>We run a final kmeans clustering algorithm and assign the labels to our final dataframe."
        },
        {
            "cell_type": "code",
            "execution_count": null,
            "metadata": {},
            "outputs": [],
            "source": "finclus=3\nKMMfin=KMeans(n_clusters=finclus,random_state=10).fit(X2)\nlabels=KMMfin.labels_\nTor4=Tor3.copy()\nTor4['Labels']=labels\nTor4.head()"
        },
        {
            "cell_type": "markdown",
            "metadata": {},
            "source": "We will now visualize the Neighborhoods on a map using folium"
        },
        {
            "cell_type": "code",
            "execution_count": null,
            "metadata": {
                "scrolled": true
            },
            "outputs": [],
            "source": "!pip install --user folium"
        },
        {
            "cell_type": "markdown",
            "metadata": {},
            "source": "First we initialize our map by centering it around Toronto. Then we create a color spectrum for the three clusters using matplotlib. Finally we add the neighborhood markers to the map by looping through latitude longitude, neighborhood name and cluster label."
        },
        {
            "cell_type": "code",
            "execution_count": null,
            "metadata": {},
            "outputs": [],
            "source": "import folium\nimport matplotlib.cm as cm\nimport matplotlib.colors as colors\nfrom IPython.display import HTML, display\n\n#Find toronto latitude+longitude\ng=geocoder.bing('Toronto, Ontario',key=bingcred)\nmapstart=[g.lat,g.lng]\n#Initialize folium map object centered around Toronto\ntormap=folium.Map(location=mapstart,zoom_start=12,tiles='Stamen Toner')\n\n# set color scheme for the clusters\nx = np.arange(finclus)\nys = [i + x + (i*x)**2 for i in range(finclus)]\ncolors_array = cm.rainbow(np.linspace(0, 1, len(ys)))\nrainbow = [colors.rgb2hex(i) for i in colors_array]\n\n# add markers to the map\nmarkers_colors = []\nfor lat, lon, poi, cluster in zip(Tor4['Latitude'], Tor4['Longitude'], Tor4['Neighborhood'], Tor4['Labels']):\n    label = folium.Popup(str(poi) + ' Cluster ' + str(cluster), parse_html=True)\n    folium.CircleMarker(\n        [lat, lon],\n        radius=5,\n        popup=label,\n        color=rainbow[cluster-1],\n        fill=True,\n        fill_color=rainbow[cluster-1],\n        fill_opacity=0.7).add_to(tormap)"
        },
        {
            "cell_type": "code",
            "execution_count": null,
            "metadata": {
                "scrolled": false
            },
            "outputs": [],
            "source": "tormap._repr_html_()"
        },
        {
            "cell_type": "markdown",
            "metadata": {},
            "source": "<b>Cluster 0</b>"
        },
        {
            "cell_type": "code",
            "execution_count": null,
            "metadata": {
                "scrolled": true
            },
            "outputs": [],
            "source": "Tor4.loc[Tor4['Labels']==0]"
        },
        {
            "cell_type": "markdown",
            "metadata": {},
            "source": "Our first cluster, red, is heavily focused on liquor stores and parks. It is semi-central and could indicate areas that have more locals"
        },
        {
            "cell_type": "markdown",
            "metadata": {},
            "source": "<b>Cluster 1</b>"
        },
        {
            "cell_type": "code",
            "execution_count": null,
            "metadata": {},
            "outputs": [],
            "source": "Tor4.loc[Tor4['Labels']==1]"
        },
        {
            "cell_type": "markdown",
            "metadata": {},
            "source": "Our second cluster, purple, mostly focuses on coffee shops, bars and hotels. It is also very central to downtown Toronto and is much clearer that it has mostly Tourist visitors."
        },
        {
            "cell_type": "markdown",
            "metadata": {},
            "source": "<b>Cluster 2</b>"
        },
        {
            "cell_type": "code",
            "execution_count": null,
            "metadata": {},
            "outputs": [],
            "source": "Tor4.loc[Tor4['Labels']==2]"
        },
        {
            "cell_type": "markdown",
            "metadata": {},
            "source": "Our third cluster, green, doesnt have any defining characteristics and would need to be granulated further with a broader feature set. Evidenced by some neighborhoods having 0 venues."
        },
        {
            "cell_type": "markdown",
            "metadata": {},
            "source": "To improve our clustering we could either include more/all venue types or expand our foursquare search radius, both leading to more venues for each neighborhood leading to more accurate clustering."
        }
    ],
    "metadata": {
        "kernelspec": {
            "display_name": "Python 3.6",
            "language": "python",
            "name": "python3"
        },
        "language_info": {
            "codemirror_mode": {
                "name": "ipython",
                "version": 3
            },
            "file_extension": ".py",
            "mimetype": "text/x-python",
            "name": "python",
            "nbconvert_exporter": "python",
            "pygments_lexer": "ipython3",
            "version": "3.6.9"
        }
    },
    "nbformat": 4,
    "nbformat_minor": 1
}